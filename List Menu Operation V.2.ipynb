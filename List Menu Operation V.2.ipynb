{
 "cells": [
  {
   "cell_type": "code",
   "execution_count": 1,
   "metadata": {},
   "outputs": [],
   "source": [
    "def menu():\n",
    "    print(\"1- Add an item to the list\")\n",
    "    print(\"2- Remove item from the list\")\n",
    "    print(\"3- Insert an item to the list\")\n",
    "    print(\"4- Find maximum\")\n",
    "    print(\"5- Find Minimum\")\n",
    "    print(\"6- Sort the list in descending order\")\n",
    "    print(\"7- Display the list....\")\n",
    "    print(\"8- Quit the program\")"
   ]
  },
  {
   "cell_type": "code",
   "execution_count": 2,
   "metadata": {},
   "outputs": [],
   "source": [
    "def displayList(List):\n",
    "    print(List)"
   ]
  },
  {
   "cell_type": "code",
   "execution_count": 3,
   "metadata": {},
   "outputs": [],
   "source": [
    "def exit():\n",
    "    print(\"Now exiting...\")"
   ]
  },
  {
   "cell_type": "code",
   "execution_count": 4,
   "metadata": {},
   "outputs": [],
   "source": [
    "def insertToList(item, index):\n",
    "    global studentFullName\n",
    "    item_list = [item]\n",
    "    #print(studentFullName)\n",
    "    list_1 = studentFullName[:index-1]\n",
    "    list_2 = studentFullName[index-1:]\n",
    "    studentFullName[:] = []\n",
    "    studentFullName = list_1 + item_list + list_2\n",
    "    #print (studentFullName)"
   ]
  },
  {
   "cell_type": "code",
   "execution_count": 5,
   "metadata": {},
   "outputs": [],
   "source": [
    "def addItem(item):\n",
    "    global studentFullName\n",
    "    item_list = [item]\n",
    "    studentFullName += item_list"
   ]
  },
  {
   "cell_type": "code",
   "execution_count": 6,
   "metadata": {},
   "outputs": [],
   "source": [
    "def removeItem(item):\n",
    "    global studentFullName\n",
    "    index = 0\n",
    "    for i in studentFullName:\n",
    "        if item == i:\n",
    "            break\n",
    "        else:\n",
    "            index +=1\n",
    "    list_1 = studentFullName[:index]\n",
    "    list_2 = studentFullName[index+1:]\n",
    "    studentFullName[:] = []\n",
    "    studentFullName = list_1 + list_2\n",
    "    "
   ]
  },
  {
   "cell_type": "code",
   "execution_count": 7,
   "metadata": {},
   "outputs": [],
   "source": [
    "def findMin(names):\n",
    "    lowest = names[0]\n",
    "    \n",
    "    for i in names[1:]:\n",
    "        if i < lowest:\n",
    "            lowest = i\n",
    "\n",
    "    return lowest"
   ]
  },
  {
   "cell_type": "code",
   "execution_count": 8,
   "metadata": {},
   "outputs": [],
   "source": [
    "def findMax(names):\n",
    "    highest = names[0]\n",
    "    \n",
    "    for i in names[1:]:\n",
    "        if i > highest:\n",
    "            highest = i\n",
    "\n",
    "    return highest"
   ]
  },
  {
   "cell_type": "code",
   "execution_count": 14,
   "metadata": {},
   "outputs": [],
   "source": [
    "def sortList(names):\n",
    "    sorted_names = []\n",
    "    global studentFullName\n",
    "    while len(names) != 0:\n",
    "        #append_list = []\n",
    "        lowest = findMin(names)\n",
    "        append_list = [lowest]\n",
    "        sorted_names = sorted_names + append_list\n",
    "        index = 0\n",
    "        for i in names:\n",
    "            if lowest == i:\n",
    "                break\n",
    "            else:\n",
    "                index +=1\n",
    "        list_1 = names[:index]\n",
    "        list_2 = names[index+1:]\n",
    "        names[:] = []\n",
    "        names = list_1 + list_2\n",
    "    studentFullName = sorted_names"
   ]
  },
  {
   "cell_type": "code",
   "execution_count": 10,
   "metadata": {},
   "outputs": [],
   "source": [
    "def main():\n",
    "    global studentFullName\n",
    "    studentFullName = [\"Mike navarro\",\"Miguel saba\",\"Maria Rami\"]\n",
    "    while(True):\n",
    "        menu()\n",
    "        choice = float(input(\"Enter a choice: \"))\n",
    "        if choice == 1:\n",
    "            item = input(\"Please enter the value for the item you want to insert: \")\n",
    "            addItem(item)\n",
    "        elif choice == 2:\n",
    "            item = input(\"Please enter the value for the item you want to remove: \")\n",
    "            removeItem(item)\n",
    "        elif choice == 3:\n",
    "            index = int(input(\"Where do you want to insert the item? (Enter the index number)\"))\n",
    "            item = input(\"Please enter the value for the item you want to insert: \")\n",
    "            insertToList(item, index)\n",
    "        elif choice == 4:\n",
    "            print(\"The maximum is: \" + findMax(studentFullName))\n",
    "        elif choice == 5:\n",
    "            print(\"The minimum is: \" + findMin(studentFullName))\n",
    "        elif choice == 6:\n",
    "            sortList(studentFullName)\n",
    "        elif choice == 7:\n",
    "            displayList(studentFullName)\n",
    "        elif choice == 8:\n",
    "            exit()\n",
    "            break\n",
    "        else:\n",
    "            print(\"Please enter a vaild choice\")"
   ]
  },
  {
   "cell_type": "code",
   "execution_count": null,
   "metadata": {},
   "outputs": [
    {
     "name": "stdout",
     "output_type": "stream",
     "text": [
      "1- Add an item to the list\n",
      "2- Remove item from the list\n",
      "3- Insert an item to the list\n",
      "4- Find maximum\n",
      "5- Find Minimum\n",
      "6- Sort the list in descending order\n",
      "7- Display the list....\n",
      "8- Quit the program\n"
     ]
    },
    {
     "name": "stdin",
     "output_type": "stream",
     "text": [
      "Enter a choice:  7\n"
     ]
    },
    {
     "name": "stdout",
     "output_type": "stream",
     "text": [
      "['Mike navarro', 'Miguel saba', 'Maria Rami']\n",
      "1- Add an item to the list\n",
      "2- Remove item from the list\n",
      "3- Insert an item to the list\n",
      "4- Find maximum\n",
      "5- Find Minimum\n",
      "6- Sort the list in descending order\n",
      "7- Display the list....\n",
      "8- Quit the program\n"
     ]
    }
   ],
   "source": [
    "main()"
   ]
  },
  {
   "cell_type": "code",
   "execution_count": null,
   "metadata": {},
   "outputs": [],
   "source": []
  }
 ],
 "metadata": {
  "kernelspec": {
   "display_name": "Python 3",
   "language": "python",
   "name": "python3"
  },
  "language_info": {
   "codemirror_mode": {
    "name": "ipython",
    "version": 3
   },
   "file_extension": ".py",
   "mimetype": "text/x-python",
   "name": "python",
   "nbconvert_exporter": "python",
   "pygments_lexer": "ipython3",
   "version": "3.7.3"
  }
 },
 "nbformat": 4,
 "nbformat_minor": 4
}
