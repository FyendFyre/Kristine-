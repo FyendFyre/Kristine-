{
 "cells": [
  {
   "cell_type": "code",
   "execution_count": 1,
   "metadata": {},
   "outputs": [],
   "source": [
    "def menu():\n",
    "    check = True\n",
    "    while(check):\n",
    "        status = input(\"Are you an in-patient(I) or an out-patient(O)?\")\n",
    "        status = status.lower()\n",
    "        if status == \"i\":\n",
    "            in_patient()\n",
    "            check = False\n",
    "        elif status == \"o\":\n",
    "            out_patient()\n",
    "            check = False\n",
    "        else:\n",
    "            check = True\n",
    "        "
   ]
  },
  {
   "cell_type": "code",
   "execution_count": 2,
   "metadata": {},
   "outputs": [],
   "source": [
    "def in_patient():\n",
    "    check = True\n",
    "    while(check):\n",
    "        days = float(input(\"Enter the number of days spent in the hospital: \"))\n",
    "        print(days)\n",
    "        if check_input(days) == False:\n",
    "            check = True\n",
    "        else:\n",
    "            check = False\n",
    "    check = True        \n",
    "    while(check):        \n",
    "        rate = float(input(\"Enter the daily rate: \"))\n",
    "        if check_input(rate) == False:\n",
    "            check = True\n",
    "        else:\n",
    "            check = False\n",
    "    check = True        \n",
    "    while(check):        \n",
    "        charge = float(input (\"Enter the total charges for all services(lab tests, blood draws, etc.)\"))\n",
    "        if check_input(charge) == False:\n",
    "            check = True\n",
    "        else:\n",
    "            check = False\n",
    "    check = True\n",
    "    while(check):        \n",
    "        med_charge = float(input(\"Enter the total medication charges: \"))\n",
    "        if check_input(med_charge) == False:\n",
    "            check = True\n",
    "        else:\n",
    "            check = False\n",
    "    total = days*rate+charge+med_charge\n",
    "    print(\"Your total is: $\" + str(total))"
   ]
  },
  {
   "cell_type": "code",
   "execution_count": 3,
   "metadata": {},
   "outputs": [],
   "source": [
    "def out_patient():\n",
    "    check = True\n",
    "    while(check):\n",
    "        charge = float(input(\"Enter the total charges for all services(lab tests, blood draws, etc.)\"))\n",
    "        if check_input(charge) == True:\n",
    "            check = False\n",
    "        else:\n",
    "            check = True\n",
    "    check = True\n",
    "    while(check):    \n",
    "        med_charge = float(input(\"Enter the total medication charges: \"))\n",
    "        if check_input(med_charge) == True:\n",
    "                check = False\n",
    "        else:\n",
    "            check = True\n",
    "    total = med_charge + charge\n",
    "    print(\"Your total is: $\" + str(total))"
   ]
  },
  {
   "cell_type": "code",
   "execution_count": 4,
   "metadata": {},
   "outputs": [],
   "source": [
    "def check_input(input):\n",
    "    if input < 0:\n",
    "        return False\n",
    "    else: \n",
    "        return True"
   ]
  },
  {
   "cell_type": "code",
   "execution_count": null,
   "metadata": {
    "scrolled": true
   },
   "outputs": [
    {
     "name": "stdout",
     "output_type": "stream",
     "text": [
      "Are you an in-patient(I) or an out-patient(O)?o\n",
      "Enter the total charges for all services(lab tests, blood draws, etc.)-12\n"
     ]
    }
   ],
   "source": [
    "menu()"
   ]
  },
  {
   "cell_type": "code",
   "execution_count": null,
   "metadata": {},
   "outputs": [],
   "source": []
  }
 ],
 "metadata": {
  "kernelspec": {
   "display_name": "Python 3",
   "language": "python",
   "name": "python3"
  },
  "language_info": {
   "codemirror_mode": {
    "name": "ipython",
    "version": 3
   },
   "file_extension": ".py",
   "mimetype": "text/x-python",
   "name": "python",
   "nbconvert_exporter": "python",
   "pygments_lexer": "ipython3",
   "version": "3.7.2"
  }
 },
 "nbformat": 4,
 "nbformat_minor": 2
}
