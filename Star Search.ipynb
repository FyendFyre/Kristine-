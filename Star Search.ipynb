{
 "cells": [
  {
   "cell_type": "code",
   "execution_count": 13,
   "metadata": {},
   "outputs": [],
   "source": [
    "def getJudgeData():\n",
    "\n",
    "    while(True):\n",
    "        score=float(input(\"Enter the judge's score: \"))\n",
    "        if score >= 0 and score <= 10:\n",
    "            break\n",
    "    \n",
    "    return score\n",
    "    "
   ]
  },
  {
   "cell_type": "code",
   "execution_count": 10,
   "metadata": {},
   "outputs": [],
   "source": [
    "def calcScore(score1, score2, score3, score4, score5):\n",
    "    \n",
    "    Lowest = findLowest(score1, score2, score3, score4, score5)\n",
    "    Highest = findHighest(score1, score2, score3, score4, score5)\n",
    "    score_list= [score1, score2, score3, score4, score5]\n",
    "    \n",
    "    score_list.remove(Highest)\n",
    "    score_list.remove(Lowest)\n",
    "    \n",
    "    average = sum(score_list) / 3\n",
    "    print(average)"
   ]
  },
  {
   "cell_type": "code",
   "execution_count": 7,
   "metadata": {},
   "outputs": [],
   "source": [
    "def findLowest(score1, score2, score3, score4, score5):\n",
    "    score_list= [score1, score2, score3, score4, score5]\n",
    "    lowest = score_list[0]\n",
    "    \n",
    "    for i in score_list[1:]:\n",
    "        if i < lowest:\n",
    "            lowest = i\n",
    "    \n",
    "    return lowest\n",
    "    "
   ]
  },
  {
   "cell_type": "code",
   "execution_count": 8,
   "metadata": {},
   "outputs": [],
   "source": [
    "def findHighest(score1, score2, score3, score4, score5):\n",
    "    \n",
    "    score_list= [score1, score2, score3, score4, score5]\n",
    "    highest = score_list[0]\n",
    "    \n",
    "    for i in score_list[1:]:\n",
    "        if i > highest:\n",
    "            highest = i\n",
    "    \n",
    "    return highest"
   ]
  },
  {
   "cell_type": "code",
   "execution_count": null,
   "metadata": {},
   "outputs": [],
   "source": [
    "def main():\n",
    "    score1 = getJudgeData()\n",
    "    score2 = getJudgeData()\n",
    "    score3 = getJudgeData()\n",
    "    score4 = getJudgeData()\n",
    "    score5 = getJudgeData()\n",
    "    "
   ]
  }
 ],
 "metadata": {
  "kernelspec": {
   "display_name": "Python 3",
   "language": "python",
   "name": "python3"
  },
  "language_info": {
   "codemirror_mode": {
    "name": "ipython",
    "version": 3
   },
   "file_extension": ".py",
   "mimetype": "text/x-python",
   "name": "python",
   "nbconvert_exporter": "python",
   "pygments_lexer": "ipython3",
   "version": "3.7.3"
  }
 },
 "nbformat": 4,
 "nbformat_minor": 4
}
